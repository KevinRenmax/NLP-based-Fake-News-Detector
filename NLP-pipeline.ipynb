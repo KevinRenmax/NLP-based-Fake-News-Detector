{
 "cells": [
  {
   "cell_type": "markdown",
   "metadata": {},
   "source": [
    "# Final Project of Group 5, Sy Lab"
   ]
  },
  {
   "cell_type": "markdown",
   "metadata": {},
   "source": [
    "## Group members\n",
    "Everyone in our group will build a simple and basic pipeline and based on this trying to find the best model in different part:\n",
    "- Ke Ren : focus on embedding, besides the basic method in class, he will try to combine them together to see the performance.\n",
    "- Minda Zhao: focus on new classifications such as LSTM and some optimizations to optimize our model.\n",
    "- Minghao Zheng: focus on preprocessing and classifications such as RandomForest, XGboost and MLP"
   ]
  },
  {
   "cell_type": "markdown",
   "metadata": {},
   "source": [
    "## Abstract"
   ]
  },
  {
   "cell_type": "markdown",
   "metadata": {},
   "source": [
    "The proliferation of misleading information in everyday access media outlets such as social media feeds, news blogs, and online newspapers have made it challenging to identify trustworthy news sources, thus increasing the need for computational tools able to provide insights into the reliability of online content. In this project, we will build a model to identify the fake news.  \n",
    "Generally, Word2Vec with XGBoost can work very well, but they have a very important shortage: they ignore the connection between paragraphs or don't represent it very well, so we use the Bi-LSTM network and Doc2Vec in our model trying to represent the connection better. Besides this, our group will use other embedding methods such as fasttext to overcome the disadvantage of word2vec and doc2vec. Finally, we will show the performance of different combination of methods by graphs and tables to give a best model. The final result is that the best model is __Doc2Vec+XGBoost__, the f1-score has reached __0.95__.  \n",
    "Also, the given dataset is too small and balanced, so our group get another dataset to test our model from ISOT Lab online. (Contain 20000+ real news and 20000+ fake news)"
   ]
  },
  {
   "cell_type": "markdown",
   "metadata": {},
   "source": [
    "## Flow Chart"
   ]
  },
  {
   "cell_type": "markdown",
   "metadata": {},
   "source": [
    "![a](Outline\\Fake News Detection.jpg)"
   ]
  },
  {
   "cell_type": "markdown",
   "metadata": {},
   "source": [
    "## Dataset:"
   ]
  },
  {
   "cell_type": "markdown",
   "metadata": {},
   "source": [
    "- fake_or_real_news.csv (too small and balanced)\n",
    "- ISOT Fake News Dataset (Contain 20000+ real news and 20000+ fake news).   \n",
    "From University of Victoria, ISOT Research Lab.  \n",
    "URL : https://www.uvic.ca/engineering/ece/isot/datasets/"
   ]
  },
  {
   "cell_type": "markdown",
   "metadata": {},
   "source": [
    "## Data Cleaning"
   ]
  },
  {
   "cell_type": "markdown",
   "metadata": {},
   "source": [
    "### Delete samples contain missing values\n",
    "If you have a brief look at the titlts and texts of the samples, you will find that some of these only contain some punctuations."
   ]
  },
  {
   "cell_type": "markdown",
   "metadata": {},
   "source": [
    "For example:"
   ]
  },
  {
   "cell_type": "code",
   "execution_count": 9,
   "metadata": {},
   "outputs": [
    {
     "name": "stdout",
     "output_type": "stream",
     "text": [
      ":\n"
     ]
    }
   ],
   "source": [
    "import pandas as pd\n",
    "df = pd.read_csv('Original_News_Dataset/fake_or_real_news.csv')\n",
    "df = df.astype({'title':'str', 'text':'str'})\n",
    "print(df['title'][3456])\n",
    "df = df[df['title'].str.len() >= 2]\n",
    "df = df[df['text'].str.len() >= 2]"
   ]
  },
  {
   "cell_type": "markdown",
   "metadata": {},
   "source": [
    "### Remove samples which are not written in English"
   ]
  },
  {
   "cell_type": "code",
   "execution_count": 10,
   "metadata": {
    "collapsed": true
   },
   "outputs": [],
   "source": [
    "from langdetect import detect_langs\n",
    "df['language'] = df.apply(lambda x: detect_langs(x['title'])[0].lang, axis=1)\n",
    "df = df[df['language']=='en']"
   ]
  },
  {
   "cell_type": "markdown",
   "metadata": {},
   "source": [
    "### Use regular expression to remove some special information such as news agency and authors."
   ]
  },
  {
   "cell_type": "code",
   "execution_count": 6,
   "metadata": {},
   "outputs": [
    {
     "data": {
      "text/html": [
       "<div>\n",
       "<style scoped>\n",
       "    .dataframe tbody tr th:only-of-type {\n",
       "        vertical-align: middle;\n",
       "    }\n",
       "\n",
       "    .dataframe tbody tr th {\n",
       "        vertical-align: top;\n",
       "    }\n",
       "\n",
       "    .dataframe thead th {\n",
       "        text-align: right;\n",
       "    }\n",
       "</style>\n",
       "<table border=\"1\" class=\"dataframe\">\n",
       "  <thead>\n",
       "    <tr style=\"text-align: right;\">\n",
       "      <th></th>\n",
       "      <th>title</th>\n",
       "      <th>text</th>\n",
       "      <th>subject</th>\n",
       "      <th>date</th>\n",
       "    </tr>\n",
       "  </thead>\n",
       "  <tbody>\n",
       "    <tr>\n",
       "      <th>0</th>\n",
       "      <td>Donald Trump Sends Out Embarrassing New Year’...</td>\n",
       "      <td>Donald Trump just couldn t wish all Americans ...</td>\n",
       "      <td>News</td>\n",
       "      <td>December 31, 2017</td>\n",
       "    </tr>\n",
       "    <tr>\n",
       "      <th>1</th>\n",
       "      <td>Drunk Bragging Trump Staffer Started Russian ...</td>\n",
       "      <td>House Intelligence Committee Chairman Devin Nu...</td>\n",
       "      <td>News</td>\n",
       "      <td>December 31, 2017</td>\n",
       "    </tr>\n",
       "    <tr>\n",
       "      <th>2</th>\n",
       "      <td>Sheriff David Clarke Becomes An Internet Joke...</td>\n",
       "      <td>On Friday, it was revealed that former Milwauk...</td>\n",
       "      <td>News</td>\n",
       "      <td>December 30, 2017</td>\n",
       "    </tr>\n",
       "    <tr>\n",
       "      <th>3</th>\n",
       "      <td>Trump Is So Obsessed He Even Has Obama’s Name...</td>\n",
       "      <td>On Christmas day, Donald Trump announced that ...</td>\n",
       "      <td>News</td>\n",
       "      <td>December 29, 2017</td>\n",
       "    </tr>\n",
       "    <tr>\n",
       "      <th>4</th>\n",
       "      <td>Pope Francis Just Called Out Donald Trump Dur...</td>\n",
       "      <td>Pope Francis used his annual Christmas Day mes...</td>\n",
       "      <td>News</td>\n",
       "      <td>December 25, 2017</td>\n",
       "    </tr>\n",
       "  </tbody>\n",
       "</table>\n",
       "</div>"
      ],
      "text/plain": [
       "                                               title  \\\n",
       "0   Donald Trump Sends Out Embarrassing New Year’...   \n",
       "1   Drunk Bragging Trump Staffer Started Russian ...   \n",
       "2   Sheriff David Clarke Becomes An Internet Joke...   \n",
       "3   Trump Is So Obsessed He Even Has Obama’s Name...   \n",
       "4   Pope Francis Just Called Out Donald Trump Dur...   \n",
       "\n",
       "                                                text subject  \\\n",
       "0  Donald Trump just couldn t wish all Americans ...    News   \n",
       "1  House Intelligence Committee Chairman Devin Nu...    News   \n",
       "2  On Friday, it was revealed that former Milwauk...    News   \n",
       "3  On Christmas day, Donald Trump announced that ...    News   \n",
       "4  Pope Francis used his annual Christmas Day mes...    News   \n",
       "\n",
       "                date  \n",
       "0  December 31, 2017  \n",
       "1  December 31, 2017  \n",
       "2  December 30, 2017  \n",
       "3  December 29, 2017  \n",
       "4  December 25, 2017  "
      ]
     },
     "execution_count": 6,
     "metadata": {},
     "output_type": "execute_result"
    }
   ],
   "source": [
    "import pandas as pd\n",
    "df_Fake = pd.read_csv('ISOT_News_Dataset/Fake.csv')\n",
    "df_True = pd.read_csv('ISOT_News_Dataset/True.csv')\n",
    "df_Fake.head()"
   ]
  },
  {
   "cell_type": "code",
   "execution_count": 5,
   "metadata": {},
   "outputs": [
    {
     "data": {
      "text/html": [
       "<div>\n",
       "<style scoped>\n",
       "    .dataframe tbody tr th:only-of-type {\n",
       "        vertical-align: middle;\n",
       "    }\n",
       "\n",
       "    .dataframe tbody tr th {\n",
       "        vertical-align: top;\n",
       "    }\n",
       "\n",
       "    .dataframe thead th {\n",
       "        text-align: right;\n",
       "    }\n",
       "</style>\n",
       "<table border=\"1\" class=\"dataframe\">\n",
       "  <thead>\n",
       "    <tr style=\"text-align: right;\">\n",
       "      <th></th>\n",
       "      <th>title</th>\n",
       "      <th>text</th>\n",
       "      <th>subject</th>\n",
       "      <th>date</th>\n",
       "    </tr>\n",
       "  </thead>\n",
       "  <tbody>\n",
       "    <tr>\n",
       "      <th>0</th>\n",
       "      <td>As U.S. budget fight looms, Republicans flip t...</td>\n",
       "      <td>WASHINGTON (Reuters) - The head of a conservat...</td>\n",
       "      <td>politicsNews</td>\n",
       "      <td>December 31, 2017</td>\n",
       "    </tr>\n",
       "    <tr>\n",
       "      <th>1</th>\n",
       "      <td>U.S. military to accept transgender recruits o...</td>\n",
       "      <td>WASHINGTON (Reuters) - Transgender people will...</td>\n",
       "      <td>politicsNews</td>\n",
       "      <td>December 29, 2017</td>\n",
       "    </tr>\n",
       "    <tr>\n",
       "      <th>2</th>\n",
       "      <td>Senior U.S. Republican senator: 'Let Mr. Muell...</td>\n",
       "      <td>WASHINGTON (Reuters) - The special counsel inv...</td>\n",
       "      <td>politicsNews</td>\n",
       "      <td>December 31, 2017</td>\n",
       "    </tr>\n",
       "    <tr>\n",
       "      <th>3</th>\n",
       "      <td>FBI Russia probe helped by Australian diplomat...</td>\n",
       "      <td>WASHINGTON (Reuters) - Trump campaign adviser ...</td>\n",
       "      <td>politicsNews</td>\n",
       "      <td>December 30, 2017</td>\n",
       "    </tr>\n",
       "    <tr>\n",
       "      <th>4</th>\n",
       "      <td>Trump wants Postal Service to charge 'much mor...</td>\n",
       "      <td>SEATTLE/WASHINGTON (Reuters) - President Donal...</td>\n",
       "      <td>politicsNews</td>\n",
       "      <td>December 29, 2017</td>\n",
       "    </tr>\n",
       "  </tbody>\n",
       "</table>\n",
       "</div>"
      ],
      "text/plain": [
       "                                               title  \\\n",
       "0  As U.S. budget fight looms, Republicans flip t...   \n",
       "1  U.S. military to accept transgender recruits o...   \n",
       "2  Senior U.S. Republican senator: 'Let Mr. Muell...   \n",
       "3  FBI Russia probe helped by Australian diplomat...   \n",
       "4  Trump wants Postal Service to charge 'much mor...   \n",
       "\n",
       "                                                text       subject  \\\n",
       "0  WASHINGTON (Reuters) - The head of a conservat...  politicsNews   \n",
       "1  WASHINGTON (Reuters) - Transgender people will...  politicsNews   \n",
       "2  WASHINGTON (Reuters) - The special counsel inv...  politicsNews   \n",
       "3  WASHINGTON (Reuters) - Trump campaign adviser ...  politicsNews   \n",
       "4  SEATTLE/WASHINGTON (Reuters) - President Donal...  politicsNews   \n",
       "\n",
       "                 date  \n",
       "0  December 31, 2017   \n",
       "1  December 29, 2017   \n",
       "2  December 31, 2017   \n",
       "3  December 30, 2017   \n",
       "4  December 29, 2017   "
      ]
     },
     "execution_count": 5,
     "metadata": {},
     "output_type": "execute_result"
    }
   ],
   "source": [
    "df_True.head()"
   ]
  },
  {
   "cell_type": "markdown",
   "metadata": {},
   "source": [
    "The tables above are some rows of True_news and Fake_news of ISOT dataset. We can see that in True_news dataset the texts always contain the news agency but in the Fake_news dataset the news agency is absent. So we should remove these words because it can influence the ability of the model."
   ]
  },
  {
   "cell_type": "code",
   "execution_count": null,
   "metadata": {
    "collapsed": true
   },
   "outputs": [],
   "source": [
    "def clean_True_text(tokenized_string, sw, punct):\n",
    "    tokenized_string = re.sub(r'(.*) - ', '', tokenized_string)                  #regular expression\n",
    "    tokenized_list = word_tokenize(tokenized_string)\n",
    "    new_list = [token.lower() for token in tokenized_list if token.lower() not in chain(punct, sw)]\n",
    "    str = ' '\n",
    "    return str.join(new_list)"
   ]
  },
  {
   "cell_type": "markdown",
   "metadata": {},
   "source": [
    "### Remove Stopwords and Punctuations, Lower-case, Stemming and Lemmatizing:  \n",
    "Pay attention to the tag of the word, it can decide the result of Lemmatization. Here is the difference between using the tag of the word or not."
   ]
  },
  {
   "cell_type": "code",
   "execution_count": 1,
   "metadata": {},
   "outputs": [
    {
     "name": "stdout",
     "output_type": "stream",
     "text": [
      "better\n",
      "good\n"
     ]
    }
   ],
   "source": [
    "from nltk.stem.wordnet import WordNetLemmatizer\n",
    "lemmatizer = WordNetLemmatizer()\n",
    "word = 'better'\n",
    "print(lemmatizer.lemmatize(word))\n",
    "print(lemmatizer.lemmatize(word, pos = 'a'))"
   ]
  },
  {
   "cell_type": "markdown",
   "metadata": {},
   "source": [
    "But not all the embedding functions need to stem and lemmatize. For example, the performance of Doc2Vec with this preprocessing is worse than Doc2Vec without it, also in the Bi-LSTM network. The form below will show the difference.  "
   ]
  },
  {
   "cell_type": "markdown",
   "metadata": {},
   "source": [
    "<style type=\"text/css\">\n",
    ".tg  {border-collapse:collapse;border-spacing:0;}\n",
    ".tg td{font-family:Arial, sans-serif;font-size:14px;padding:10px 5px;border-style:solid;border-width:1px;overflow:hidden;word-break:normal;border-color:black;}\n",
    ".tg th{font-family:Arial, sans-serif;font-size:14px;font-weight:normal;padding:10px 5px;border-style:solid;border-width:1px;overflow:hidden;word-break:normal;border-color:black;}\n",
    ".tg .tg-c3ow{border-color:inherit;text-align:center;vertical-align:top}\n",
    "</style>\n",
    "<table class=\"tg\">\n",
    "  <tr>\n",
    "    <th class=\"tg-c3ow\"></th>\n",
    "    <th class=\"tg-c3ow\">Logistic Regression</th>\n",
    "    <th class=\"tg-c3ow\">RandomForest</th>\n",
    "    <th class=\"tg-c3ow\">XGBoost</th>\n",
    "    <th class=\"tg-c3ow\">SVM</th>\n",
    "    <th class=\"tg-c3ow\">MLP</th>\n",
    "  </tr>\n",
    "  <tr>\n",
    "    <td class=\"tg-c3ow\">Doc2Vec with stemming and Lemmatizing</td>\n",
    "    <td class=\"tg-c3ow\">0.9340</td>\n",
    "    <td class=\"tg-c3ow\">0.9281</td>\n",
    "    <td class=\"tg-c3ow\">0.9307</td>\n",
    "    <td class=\"tg-c3ow\">0.9353</td>\n",
    "    <td class=\"tg-c3ow\">0.9373</td>\n",
    "  </tr>\n",
    "  <tr>\n",
    "    <td class=\"tg-c3ow\">Doc2Vec without stemming and Lemmatizing</td>\n",
    "    <td class=\"tg-c3ow\">0.9444</td>\n",
    "    <td class=\"tg-c3ow\">0.9437</td>\n",
    "    <td class=\"tg-c3ow\">0.9523</td>\n",
    "    <td class=\"tg-c3ow\">0.9411</td>\n",
    "    <td class=\"tg-c3ow\">0.9437</td>\n",
    "  </tr>\n",
    "</table>"
   ]
  },
  {
   "cell_type": "markdown",
   "metadata": {},
   "source": [
    "The reason of this phenomenon might be that Doc2Vec (also Fasttext and LSTM) focus on the sequence characteristic of the documents. If we use stemming and lemmatizing, it will destroy the sequence and the grammar of texts. So in the following part we use Doc2Vec without preprocessing."
   ]
  },
  {
   "cell_type": "markdown",
   "metadata": {},
   "source": [
    "### The code of data cleaning"
   ]
  },
  {
   "cell_type": "code",
   "execution_count": 1,
   "metadata": {
    "code_folding": [
     21,
     33,
     41
    ],
    "collapsed": true
   },
   "outputs": [],
   "source": [
    "import pandas as pd\n",
    "import numpy as np\n",
    "import nltk\n",
    "from nltk.corpus import stopwords\n",
    "from string import punctuation\n",
    "from nltk.stem.wordnet import WordNetLemmatizer\n",
    "from nltk.stem import PorterStemmer\n",
    "from nltk.corpus import wordnet\n",
    "from itertools import chain\n",
    "from langdetect import detect_langs\n",
    "\n",
    "df = pd.read_csv('Original_News_Dataset/fake_or_real_news.csv')\n",
    "df = df.astype({'title':'str', 'text':'str'})\n",
    "df = df[df['title'].str.len() >= 2]\n",
    "df = df[df['text'].str.len() >= 2]\n",
    "\n",
    "sw = stopwords.words('english')\n",
    "sw.extend([\"'s\", \"''\", \"``\"])\n",
    "punct = punctuation + '’“”—`'\n",
    "stemmer = PorterStemmer()\n",
    "\n",
    "def get_wordnet_pos(treebank_tag):\n",
    "    if treebank_tag.startswith('J'):\n",
    "        return wordnet.ADJ\n",
    "    elif treebank_tag.startswith('V'):\n",
    "        return wordnet.VERB\n",
    "    elif treebank_tag.startswith('N'):\n",
    "        return wordnet.NOUN\n",
    "    elif treebank_tag.startswith('R'):\n",
    "        return wordnet.ADV\n",
    "    else:\n",
    "        return None\n",
    "\n",
    "def lemmatize_sentence(sentence):\n",
    "    res = []\n",
    "    lemmatizer = WordNetLemmatizer()\n",
    "    for word, pos in nltk.pos_tag(sentence):\n",
    "        wordnet_pos = get_wordnet_pos(pos) or wordnet.NOUN\n",
    "        res.append(lemmatizer.lemmatize(word, pos = wordnet_pos))\n",
    "    return res\n",
    "\n",
    "def clean_text(tokenized_list, sw, punct):\n",
    "    new_list = [token.lower() for token in tokenized_list if token.lower() not in chain(punct, sw)]\n",
    "    new_list = lemmatize_sentence(new_list)\n",
    "    new_list = [stemmer.stem(token) for token in new_list]\n",
    "    str = ' '\n",
    "    return str.join(new_list)\n",
    "\n",
    "\n",
    "df['language'] = df.apply(lambda x: detect_langs(x['title'])[0].lang, axis=1)\n",
    "df = df[df['language']=='en']\n",
    "df['tokenized_title_list'] = df.apply(lambda x : clean_text(nltk.word_tokenize(x['title']), sw, punct), axis=1)\n",
    "df['tokenized_text_list'] = df.apply(lambda x : clean_text(nltk.word_tokenize(x['text']), sw, punct), axis=1)\n",
    "\n",
    "df.to_csv('Original_News_Dataset/Fake_or_real_news_cleaned(complete).csv', index = False)"
   ]
  },
  {
   "cell_type": "markdown",
   "metadata": {},
   "source": [
    "## Main EDA Methods"
   ]
  },
  {
   "cell_type": "markdown",
   "metadata": {},
   "source": [
    "### Load Clean Data"
   ]
  },
  {
   "cell_type": "code",
   "execution_count": 1,
   "metadata": {
    "code_folding": [
     8
    ]
   },
   "outputs": [
    {
     "name": "stdout",
     "output_type": "stream",
     "text": [
      "Process : Read Data\n"
     ]
    }
   ],
   "source": [
    "import pandas as pd\n",
    "import numpy as np\n",
    "from collections import Counter\n",
    "from prettytable import PrettyTable\n",
    "from matplotlib import pyplot as plt\n",
    "from sklearn import preprocessing\n",
    "from sklearn.feature_extraction.text import*\n",
    "from collections import defaultdict\n",
    "from operator import itemgetter\n",
    "%matplotlib inline\n",
    "\n",
    "# Custom the draw hist\n",
    "def draw_hist(myList, Title, Xlabel, Ylabel, Xmin, Xmax, bins = 100):\n",
    "    plt.hist(myList, bins)\n",
    "    plt.xlabel(Xlabel)\n",
    "    plt.xlim(Xmin, Xmax)\n",
    "    plt.ylabel(Ylabel)\n",
    "    plt.title(Title)\n",
    "    plt.show()\n",
    "\n",
    "print('Process : Read Data')\n",
    "\n",
    "# Read cleaned data\n",
    "df = pd.read_csv('Original_News_Dataset/Fake_or_real_news_cleaned(complete).csv')\n",
    "df['label'] = df['label'].replace(['FAKE', 'REAL'], [1, 0])\n",
    "\n",
    "# Transfor the string into tokenized list\n",
    "tokenized_list = []\n",
    "for i, title_element in enumerate(df['tokenized_title_list']):\n",
    "    text = str(title_element) + ' ' + str(df['tokenized_text_list'][i])\n",
    "    tokenized_list.append(str(text).split())"
   ]
  },
  {
   "cell_type": "markdown",
   "metadata": {},
   "source": [
    "### Class Distribution\n",
    "Draw the class distribution histogram to check if the class is balanced."
   ]
  },
  {
   "cell_type": "code",
   "execution_count": 9,
   "metadata": {},
   "outputs": [
    {
     "data": {
      "image/png": "[encoded data removed]",
      "text/plain": [
       "<Figure size 432x288 with 1 Axes>"
      ]
     },
     "metadata": {},
     "output_type": "display_data"
    }
   ],
   "source": [
    "# Class Dist\n",
    "draw_hist(df['label'], 'Class Distribution', 'Document Number', 'True or Fake', 0, 1, 10)"
   ]
  },
  {
   "cell_type": "markdown",
   "metadata": {},
   "source": [
    "### Document Length\n",
    "Draw the document length distribution histogram. To save the memory, we can cut some extremely long documents."
   ]
  },
  {
   "cell_type": "code",
   "execution_count": 3,
   "metadata": {},
   "outputs": [
    {
     "data": {
      "image/png": "[encoded data removed]",
      "text/plain": [
       "<Figure size 432x288 with 1 Axes>"
      ]
     },
     "metadata": {},
     "output_type": "display_data"
    }
   ],
   "source": [
    "# Document Length\n",
    "length_list = [len(word_list) for word_list in tokenized_list]\n",
    "draw_hist(length_list, 'Document Length', 'Document Number', 'Document Length', 0, 4000)"
   ]
  },
  {
   "cell_type": "markdown",
   "metadata": {},
   "source": [
    "### Common Words (With TFIDF)\n",
    "Find common words in True news and common words in Fake news. According to these we can decide highly common words in both True news and Fake news, these words may not make sense in the classification"
   ]
  },
  {
   "cell_type": "code",
   "execution_count": 10,
   "metadata": {
    "collapsed": true
   },
   "outputs": [],
   "source": [
    "# Distinguish True and Fake list\n",
    "label = df.label.isin(['0'])\n",
    "True_list = []\n",
    "Fake_list = []\n",
    "for i, title, text in zip(label,df['tokenized_text_list'],df['tokenized_title_list']):\n",
    "    textwhole = str(title) + ' ' + str(text)\n",
    "    if i == False:\n",
    "        Fake_list = Fake_list + list(str(textwhole).split())\n",
    "    else:\n",
    "        True_list = True_list + list(str(textwhole).split())"
   ]
  },
  {
   "cell_type": "markdown",
   "metadata": {},
   "source": [
    "#### Important words in Ture News"
   ]
  },
  {
   "cell_type": "code",
   "execution_count": 11,
   "metadata": {},
   "outputs": [
    {
     "data": {
      "text/plain": [
       "<BarContainer object of 15 artists>"
      ]
     },
     "execution_count": 11,
     "metadata": {},
     "output_type": "execute_result"
    },
    {
     "data": {
      "image/png": "[encoded data removed]",
      "text/plain": [
       "<Figure size 432x288 with 1 Axes>"
      ]
     },
     "metadata": {},
     "output_type": "display_data"
    }
   ],
   "source": [
    "# Mutiply by the tfidf-value of each word\n",
    "from sklearn.feature_extraction.text import TfidfVectorizer\n",
    "from collections import defaultdict\n",
    "def fittfidf(tokenized_list):\n",
    "    tfidf = TfidfVectorizer(analyzer=lambda x: x)\n",
    "    tfidf.fit(tokenized_list)\n",
    "    max_idf = max(tfidf.idf_)\n",
    "    tfidfweight = defaultdict(\n",
    "        lambda: max_idf,\n",
    "        [(w, tfidf.idf_[i]) for w, i in tfidf.vocabulary_.items()])\n",
    "    return tfidfweight\n",
    "\n",
    "tfidfweight = fittfidf(tokenized_list)\n",
    "\n",
    "# True_table = PrettyTable([\"Word\", \"Frequency\"])\n",
    "True_values_counts = Counter(True_list)\n",
    "True_top_50 = True_values_counts.most_common(50)\n",
    "True_word_list = []\n",
    "True_Frequency_list = []\n",
    "for word, Frequency in True_top_50:\n",
    "    if Frequency*tfidfweight[word]>10000:\n",
    "        True_word_list.append(word)\n",
    "        True_Frequency_list.append(Frequency*tfidfweight[word])\n",
    "#     True_table.add_row([word, Frequency])\n",
    "plt.barh(True_word_list, True_Frequency_list)\n",
    "# print(True_table)"
   ]
  },
  {
   "cell_type": "markdown",
   "metadata": {},
   "source": [
    "#### important words in Fake News"
   ]
  },
  {
   "cell_type": "code",
   "execution_count": 12,
   "metadata": {},
   "outputs": [
    {
     "data": {
      "text/plain": [
       "<BarContainer object of 16 artists>"
      ]
     },
     "execution_count": 12,
     "metadata": {},
     "output_type": "execute_result"
    },
    {
     "data": {
      "image/png": "[encoded data removed]",
      "text/plain": [
       "<Figure size 432x288 with 1 Axes>"
      ]
     },
     "metadata": {},
     "output_type": "display_data"
    }
   ],
   "source": [
    "# Fake_table = PrettyTable([\"Word\", \"Frequency\"])\n",
    "Fake_values_counts = Counter(Fake_list)\n",
    "Fake_top_20 = Fake_values_counts.most_common(20)\n",
    "Fake_word_list = []\n",
    "Fake_Frequency_list = []\n",
    "for word, Frequency in Fake_top_20:\n",
    "    if Frequency*tfidfweight[word]>6000:\n",
    "        Fake_word_list.append(word)\n",
    "        Fake_Frequency_list.append(Frequency*tfidfweight[word])\n",
    "#     Fake_table.add_row([word, Frequency])\n",
    "plt.barh(Fake_word_list, Fake_Frequency_list)\n",
    "# print(Fake_table)"
   ]
  },
  {
   "cell_type": "markdown",
   "metadata": {},
   "source": [
    "## Text/Word Embedding"
   ]
  },
  {
   "cell_type": "markdown",
   "metadata": {},
   "source": [
    "When we have the raw corpus, we want the machine to discriminate the news, but how can it be done with words. So we need to transform the words/documents into the vectors.\n",
    "- One-hot Encoding\n",
    "- Naive Doc2vec (Word2vec each word)\n",
    "- Gensim (Doc2vec method with pre-trained model)\n",
    "- Fasttext"
   ]
  },
  {
   "cell_type": "markdown",
   "metadata": {},
   "source": [
    "Two ways to put title and text together:\n",
    "- Take the title as the first sentence of the text, vectorize them together\n",
    "- Vectorize title and text respectively, and put them into a bigger vector"
   ]
  },
  {
   "cell_type": "markdown",
   "metadata": {},
   "source": [
    "## Data Transformation\n",
    "If we use Doc2Vec, things become simple, we can just get the document vectors and put it into the classifier. But what should I do if I only get the list of word vectors? The following methods will transform the word vectors into the document vectors."
   ]
  },
  {
   "cell_type": "markdown",
   "metadata": {},
   "source": [
    "- __Raw Counts Sum Vector__  \n",
    "Average of Word2Vec vectors : You can just take the average(or divided by L2-norm) of all the word vectors in a sentence. This average vector will represent your sentence vector.\n",
    "- __TFIDF Sum Vector__  \n",
    "Average of Word2Vec vectors with TF-IDF : Take the word vectors and multiply it with their TF-IDF scores. Just take the average(or divided by L2-norm) and it will represent your sentence vector."
   ]
  },
  {
   "cell_type": "markdown",
   "metadata": {},
   "source": [
    "How to evaluate the result of Text/Word Embedding：\n",
    "\n",
    "  Generally, the more similar the distribution of the l2-norm of a document vectors with normal distribution(Gaussian distribution), the better the results are. The chart can give us an intuitionistic evaluation of the Doc2Vec and Word2Vec."
   ]
  },
  {
   "cell_type": "code",
   "execution_count": 5,
   "metadata": {
    "code_folding": [
     16
    ]
   },
   "outputs": [
    {
     "name": "stderr",
     "output_type": "stream",
     "text": [
      "C:\\Users\\lenovo\\Anaconda3\\lib\\site-packages\\ipykernel_launcher.py:52: DeprecationWarning: Call to deprecated `doctag_syn0` (Attribute will be removed in 4.0.0, use docvecs.vectors_docs instead).\n",
      "C:\\Users\\lenovo\\Anaconda3\\lib\\site-packages\\matplotlib\\axes\\_axes.py:6462: UserWarning: The 'normed' kwarg is deprecated, and has been replaced by the 'density' kwarg.\n",
      "  warnings.warn(\"The 'normed' kwarg is deprecated, and has been \"\n",
      "C:\\Users\\lenovo\\Anaconda3\\lib\\site-packages\\ipykernel_launcher.py:64: DeprecationWarning: Call to deprecated `__getitem__` (Method will be removed in 4.0.0, use self.wv.__getitem__() instead).\n",
      "C:\\Users\\lenovo\\Anaconda3\\lib\\site-packages\\matplotlib\\axes\\_axes.py:6462: UserWarning: The 'normed' kwarg is deprecated, and has been replaced by the 'density' kwarg.\n",
      "  warnings.warn(\"The 'normed' kwarg is deprecated, and has been \"\n"
     ]
    },
    {
     "data": {
      "image/png": "[encoded data removed]",
      "text/plain": [
       "<Figure size 1080x864 with 1 Axes>"
      ]
     },
     "metadata": {},
     "output_type": "display_data"
    },
    {
     "data": {
      "image/png": "[encoded data removed]",
      "text/plain": [
       "<Figure size 1080x864 with 1 Axes>"
      ]
     },
     "metadata": {},
     "output_type": "display_data"
    }
   ],
   "source": [
    "import pandas as pd\n",
    "import numpy as np\n",
    "from collections import Counter\n",
    "from matplotlib import pyplot as plt\n",
    "\n",
    "from gensim.models import Doc2Vec\n",
    "from gensim.models import Word2Vec\n",
    "from gensim.models.doc2vec import TaggedDocument\n",
    "\n",
    "from scipy.stats import*\n",
    "import seaborn as sns\n",
    "from sklearn import preprocessing\n",
    "from sklearn.feature_extraction.text import*\n",
    "from collections import defaultdict\n",
    "%matplotlib inline\n",
    "\n",
    "def norm_EDA(vectors, name):\n",
    "    l2_lengths = np.linalg.norm(vectors, axis = 1)\n",
    "    l2_lengths_normed = (l2_lengths - l2_lengths.mean()) / l2_lengths.std()\n",
    "    l2_lengths = l2_lengths_normed\n",
    "    plt.subplots(figsize = (15, 12))\n",
    "    ax = sns.distplot(l2_lengths, bins = 500)\n",
    "\n",
    "    x = np.random.randn(10000)\n",
    "    ax = sns.distplot(x, color = 'r', fit = norm, hist = False, kde = False, ax = ax)\n",
    "    title = \"Histogram of L2 lengths (n_dims = {n_dims})\"\n",
    "    title += \" [NORMALIZED]\"\n",
    "    ax.set_title(title.format(n_dims = vectors[0].shape[0]))\n",
    "\n",
    "    x_coord, y_coord = (.7, .7)\n",
    "    anno_box = []\n",
    "    anno_box.append(\"{}\".format(name))\n",
    "    anno_box.append(\"# Vectors: {}\".format(len(vectors)))\n",
    "    anno_box.append(\"Bin Count {}\".format(str(1000)))\n",
    "    bbox_props = dict(boxstyle = 'square,pad=0.1', fc = 'skyblue')\n",
    "    ax.figure.text(x_coord, y_coord, s = '\\n'.join(anno_box), bbox = bbox_props)\n",
    "\n",
    "df = pd.read_csv('Original_News_Dataset/Fake_or_real_news_cleaned(basic).csv')\n",
    "df['label'] = df['label'].replace(['FAKE', 'REAL'], [1, 0])\n",
    "    \n",
    "tokenized_list = []\n",
    "corpus = []\n",
    "for i, title_element in enumerate(df['tokenized_title_list']):\n",
    "    text = str(title_element) + ' ' + str(df['tokenized_text_list'][i])\n",
    "    tokenized_list.append(str(text).split())\n",
    "    corpus.append(text)\n",
    "\n",
    "documents = [TaggedDocument(doc, [i]) for i, doc in enumerate(tokenized_list)]\n",
    "doc2vec_model = Doc2Vec(vector_size = 300, min_count = 5, dm = 0, epochs = 10, pretrained_emb = 'data/GoogleNews-vector-negative300.bin.gz')\n",
    "doc2vec_model.build_vocab(documents)\n",
    "doc2vec_model.train(documents, total_examples = doc2vec_model.corpus_count, epochs = 10)\n",
    "norm_EDA(doc2vec_model.docvecs.doctag_syn0, \"Doc2Vec\")\n",
    "\n",
    "word2vec_model = Word2Vec(tokenized_list, min_count = 1, size = 300, sg = 0, alpha = 0.025, iter = 10, batch_words = 10000, window = 5)\n",
    "tfidf_vec = TfidfVectorizer() \n",
    "tfidf_vec.fit(corpus)\n",
    "max_idf = max(tfidf_vec.idf_)\n",
    "word2weight = defaultdict(lambda : max_idf, [(w, tfidf_vec.idf_[i]) for w, i in tfidf_vec.vocabulary_.items()])\n",
    "x = []\n",
    "for text in tokenized_list:\n",
    "    text_vector = np.zeros(300)\n",
    "    for element in text:\n",
    "        if element in word2weight:\n",
    "            text_vector = text_vector + word2weight[element] * word2vec_model[element]\n",
    "    text_vector = text_vector / len(text)\n",
    "    # text_vector = text_vector / np.linalg.norm(text_vector, ord = 2)\n",
    "    x.append(text_vector)\n",
    "norm_EDA(x, \"Word2Vec\")"
   ]
  },
  {
   "cell_type": "markdown",
   "metadata": {},
   "source": [
    "## Classification\n",
    "Now we get the document vectors from the feature extractions and use them to train the classifier. The classifiers we used in this projects are presented as below."
   ]
  },
  {
   "cell_type": "markdown",
   "metadata": {},
   "source": [
    "- __Logistic Regression__  "
   ]
  },
  {
   "cell_type": "code",
   "execution_count": null,
   "metadata": {
    "collapsed": true
   },
   "outputs": [],
   "source": [
    "LRmodel = LogisticRegression()"
   ]
  },
  {
   "cell_type": "markdown",
   "metadata": {},
   "source": [
    "- __RandomForest Classifier__  "
   ]
  },
  {
   "cell_type": "code",
   "execution_count": null,
   "metadata": {
    "collapsed": true
   },
   "outputs": [],
   "source": [
    "LRmodel = RandomForestClassifier()\n",
    "param_dist = {\"max_features\" : ['auto', 'sqrt', 'log2'],\n",
    "              \"n_estimators\" : [100, 200, 300],\n",
    "              \"criterion\" : ['gini', 'entropy']}"
   ]
  },
  {
   "cell_type": "markdown",
   "metadata": {},
   "source": [
    "- __Support Vector Machine__ "
   ]
  },
  {
   "cell_type": "code",
   "execution_count": null,
   "metadata": {
    "collapsed": true
   },
   "outputs": [],
   "source": [
    "svc = SVC()\n",
    "param_dist = {'C':[0.001,0.006,0.01,0.04,0.08,0.1],\n",
    "              'kernel':('linear','rbf'), \n",
    "              'gamma':[0.001,0.005,0.1,0.15,0.20,0.23,0.27],\n",
    "              'decision_function_shape':['ovo','ovr']}"
   ]
  },
  {
   "cell_type": "markdown",
   "metadata": {},
   "source": [
    " - __Multi-Layer Perceptron__"
   ]
  },
  {
   "cell_type": "code",
   "execution_count": null,
   "metadata": {
    "collapsed": true
   },
   "outputs": [],
   "source": [
    "mlp = MLPClassifier()\n",
    "param_dist = {'hidden_layer_sizes':[(64,), (128,), (256,)],\n",
    "              'activation':['identity', 'logistic', 'tanh', 'relu'], \n",
    "              'solver':['sgd', 'adam'],\n",
    "              'learning_rate':['constant', 'invscaling', 'adaptive'],\n",
    "              'learning_rate_init':[0.001, 0.01, 0.1]}"
   ]
  },
  {
   "cell_type": "markdown",
   "metadata": {},
   "source": [
    "- __XGBoost Classifier__"
   ]
  },
  {
   "cell_type": "code",
   "execution_count": null,
   "metadata": {
    "collapsed": true
   },
   "outputs": [],
   "source": [
    "XGmodel = XGBClassifier(reg_lambda = 1, objective = \"binary:logistic\")\n",
    "param_dist = {\"max_depth\" : sp_randint(3, 10),\n",
    "              \"learning_rate\" : [0.0005, 0.001, 0.01, 0.1, 0.2, 0.3],\n",
    "              \"subsample\" : [0.3, 0.4, 0.5, 0.6, 0.7, 0.8], \n",
    "              \"n_estimators\" : sp_randint(100, 2000)}"
   ]
  },
  {
   "cell_type": "markdown",
   "metadata": {},
   "source": [
    "- __Bi-LSTM Network__  "
   ]
  },
  {
   "cell_type": "code",
   "execution_count": null,
   "metadata": {
    "collapsed": true
   },
   "outputs": [],
   "source": [
    "def create_model(learn_rate = 0.01):\n",
    "    model = Sequential()\n",
    "    model.add(Bidirectional(LSTM(128, input_shape = (samples, 128, 300), return_sequences = True), merge_mode = 'concat'))\n",
    "    model.add(Dropout(0.5))\n",
    "    model.add(GlobalMaxPooling1D())\n",
    "    model.add(Dropout(0.5))\n",
    "    model.add(Dense(128, activation = 'relu'))\n",
    "    model.add(Dropout(0.5))\n",
    "    model.add(Dense(1, activation = 'sigmoid'))\n",
    "    optimizer = Adam(lr = learn_rate)\n",
    "    model.compile(loss = 'binary_crossentropy', optimizer = 'adam', metrics = ['accuracy'])\n",
    "    return model"
   ]
  },
  {
   "cell_type": "markdown",
   "metadata": {},
   "source": [
    "__But why we use LSTM-Network?__  \n",
    "Texts always have complex time correlation, but traditional data transformation method can not represent these context characteristics, so we introduce Long Short Term Memory network to transfor the word embedding into text embedding. This method is sensitive to sequence so it can have a better proformance.  "
   ]
  },
  {
   "cell_type": "markdown",
   "metadata": {},
   "source": [
    "__Here are two examples of sample combinations and their results (Doc2Vec + XGBoost and Word2Vec + LSTM + MLP)__"
   ]
  },
  {
   "cell_type": "markdown",
   "metadata": {},
   "source": [
    "### Doc2Vec + XGBoost"
   ]
  },
  {
   "cell_type": "code",
   "execution_count": 3,
   "metadata": {
    "code_folding": [
     16,
     28
    ]
   },
   "outputs": [
    {
     "name": "stdout",
     "output_type": "stream",
     "text": [
      "Process : Read Data\n",
      "Process : Doc2Vec\n",
      "Process : Train and Test\n",
      "             precision    recall  f1-score   support\n",
      "\n",
      "       REAL     0.9186    0.9039    0.9112       749\n",
      "       FAKE     0.9070    0.9213    0.9141       762\n",
      "\n",
      "avg / total     0.9127    0.9126    0.9126      1511\n",
      "\n",
      "[[677  72]\n",
      " [ 60 702]]\n"
     ]
    }
   ],
   "source": [
    "import pandas as pd\n",
    "import numpy as np\n",
    "from sklearn.model_selection import*\n",
    "from gensim.models import*\n",
    "from gensim.models.doc2vec import*\n",
    "from xgboost.sklearn import XGBClassifier\n",
    "from sklearn.metrics.classification import*\n",
    "from sklearn.model_selection import*\n",
    "warnings.filterwarnings(module='sklearn*', action='ignore', category=DeprecationWarning)\n",
    "#--------------------------------------------------------------------------------------------------\n",
    "# Read data\n",
    "print('Process : Read Data')\n",
    "\n",
    "df = pd.read_csv('Original_News_Dataset/Fake_or_real_news_cleaned(basic).csv')\n",
    "df['label'] = df['label'].replace(['FAKE', 'REAL'], [1, 0])\n",
    "tokenized_list = []\n",
    "for i, element in enumerate(df['tokenized_title_list']):\n",
    "    text = str(element) + ' ' + str(df['tokenized_text_list'][i])\n",
    "    tokenized_list.append(text.split())\n",
    "\n",
    "#--------------------------------------------------------------------------------------------------\n",
    "print('Process : Doc2Vec')\n",
    "documents = [TaggedDocument(doc, [i]) for i, doc in enumerate(tokenized_list)]\n",
    "doc2vec_model = Doc2Vec(vector_size = 300, min_count = 5, dm = 0, epochs = 10)\n",
    "doc2vec_model.build_vocab(documents)\n",
    "doc2vec_model.train(documents, total_examples = doc2vec_model.corpus_count, epochs = 10)\n",
    "\n",
    "x = []\n",
    "for text in tokenized_list:\n",
    "  x.append(doc2vec_model.infer_vector(text))\n",
    "x = np.array(x)\n",
    "y = np.array(df['label'].values)\n",
    "\n",
    "#--------------------------------------------------------------------------------------------------\n",
    "# Train and test\n",
    "print('Process : Train and Test')\n",
    "#split the data into train data and test data\n",
    "x_train, x_test, y_train, y_test = train_test_split(x, y, test_size = 0.25)\n",
    "\n",
    "XGmodel = XGBClassifier()\n",
    "XGmodel.fit(x_train, y_train)\n",
    "y_pred = XGmodel.predict(x_test)\n",
    "\n",
    "target_names = ['REAL', 'FAKE']\n",
    "print(classification_report(y_test, y_pred, target_names = target_names, digits = 4))\n",
    "print(confusion_matrix(y_test, y_pred))"
   ]
  },
  {
   "cell_type": "markdown",
   "metadata": {},
   "source": [
    "### Word2Vec + LSTM + MLP"
   ]
  },
  {
   "cell_type": "code",
   "execution_count": 1,
   "metadata": {
    "code_folding": [
     17,
     52,
     60,
     69,
     90
    ]
   },
   "outputs": [
    {
     "name": "stderr",
     "output_type": "stream",
     "text": [
      "/home/blazer/anaconda3/lib/python3.6/site-packages/h5py/__init__.py:36: FutureWarning: Conversion of the second argument of issubdtype from `float` to `np.floating` is deprecated. In future, it will be treated as `np.float64 == np.dtype(float).type`.\n",
      "  from ._conv import register_converters as _register_converters\n",
      "Using TensorFlow backend.\n"
     ]
    },
    {
     "name": "stdout",
     "output_type": "stream",
     "text": [
      "Process : Read Data\n",
      "Process : Word2Vec\n"
     ]
    },
    {
     "name": "stderr",
     "output_type": "stream",
     "text": [
      "/home/blazer/.local/lib/python3.6/site-packages/ipykernel_launcher.py:73: DeprecationWarning: Call to deprecated `__getitem__` (Method will be removed in 4.0.0, use self.wv.__getitem__() instead).\n"
     ]
    },
    {
     "name": "stdout",
     "output_type": "stream",
     "text": [
      "Process : train and test\n",
      "Train on 4078 samples, validate on 454 samples\n",
      "Epoch 1/10\n",
      "4078/4078 [==============================] - 4s 865us/step - loss: 0.6433 - acc: 0.6949 - val_loss: 0.4322 - val_acc: 0.8370\n",
      "Epoch 2/10\n",
      "4078/4078 [==============================] - 2s 576us/step - loss: 0.2672 - acc: 0.8950 - val_loss: 0.3510 - val_acc: 0.8326\n",
      "Epoch 3/10\n",
      "4078/4078 [==============================] - 2s 562us/step - loss: 0.1293 - acc: 0.9546 - val_loss: 0.4041 - val_acc: 0.8568\n",
      "Epoch 4/10\n",
      "4078/4078 [==============================] - 2s 560us/step - loss: 0.0392 - acc: 0.9919 - val_loss: 0.3672 - val_acc: 0.8722\n",
      "Epoch 5/10\n",
      "4078/4078 [==============================] - 2s 573us/step - loss: 0.0097 - acc: 0.9995 - val_loss: 0.4340 - val_acc: 0.8678\n",
      "Epoch 6/10\n",
      "4078/4078 [==============================] - 2s 570us/step - loss: 0.0032 - acc: 1.0000 - val_loss: 0.4725 - val_acc: 0.8767\n",
      "Epoch 7/10\n",
      "4078/4078 [==============================] - 2s 560us/step - loss: 0.0016 - acc: 1.0000 - val_loss: 0.4966 - val_acc: 0.8612\n",
      "Epoch 8/10\n",
      "4078/4078 [==============================] - 2s 577us/step - loss: 0.0010 - acc: 1.0000 - val_loss: 0.5168 - val_acc: 0.8634\n",
      "Epoch 9/10\n",
      "4078/4078 [==============================] - 2s 574us/step - loss: 7.5226e-04 - acc: 1.0000 - val_loss: 0.5335 - val_acc: 0.8634\n",
      "Epoch 10/10\n",
      "4078/4078 [==============================] - 2s 570us/step - loss: 6.0277e-04 - acc: 1.0000 - val_loss: 0.5457 - val_acc: 0.8656\n",
      "             precision    recall  f1-score   support\n",
      "\n",
      "       REAL     0.8593    0.8716    0.8654       771\n",
      "       FAKE     0.8642    0.8514    0.8577       740\n",
      "\n",
      "avg / total     0.8617    0.8617    0.8617      1511\n",
      "\n",
      "[[672  99]\n",
      " [110 630]]\n"
     ]
    },
    {
     "data": {
      "image/png": "[encoded data removed]",
      "text/plain": [
       "<Figure size 432x288 with 1 Axes>"
      ]
     },
     "metadata": {
      "needs_background": "light"
     },
     "output_type": "display_data"
    }
   ],
   "source": [
    "import pandas as pd\n",
    "import numpy as np\n",
    "import keras\n",
    "import matplotlib.pyplot as plt\n",
    "%matplotlib inline\n",
    "\n",
    "from sklearn.model_selection import*\n",
    "from gensim.models import Word2Vec\n",
    "from keras.preprocessing.text import Tokenizer\n",
    "from keras.preprocessing.sequence import pad_sequences\n",
    "from keras.models import Sequential\n",
    "from keras.layers import*\n",
    "from sklearn.metrics.classification import*\n",
    "from sklearn.model_selection import*\n",
    "from keras.wrappers.scikit_learn import KerasClassifier\n",
    "from keras.optimizers import*\n",
    "\n",
    "def plot_learning_curve(estimator, title, X, y, ylim=None, cv=None,\n",
    "                        n_jobs=1, train_sizes=np.linspace(.1, 1.0, 5)):\n",
    "    plt.figure()\n",
    "    plt.title(title)\n",
    "    if ylim is not None:\n",
    "        plt.ylim(*ylim)\n",
    "    plt.xlabel(\"Training examples\")\n",
    "    plt.ylabel(\"Score\")\n",
    "    train_sizes, train_scores, test_scores = learning_curve(\n",
    "        estimator, X, y, cv=cv, n_jobs=n_jobs, train_sizes=train_sizes, verbose = 0)\n",
    "    train_scores_mean = np.mean(train_scores, axis=1)\n",
    "    train_scores_std = np.std(train_scores, axis=1)\n",
    "    test_scores_mean = np.mean(test_scores, axis=1)\n",
    "    test_scores_std = np.std(test_scores, axis=1)\n",
    "    plt.grid()\n",
    "\n",
    "    plt.fill_between(train_sizes, train_scores_mean - train_scores_std,\n",
    "                     train_scores_mean + train_scores_std, alpha=0.1,\n",
    "                     color=\"r\")\n",
    "    plt.fill_between(train_sizes, test_scores_mean - test_scores_std,\n",
    "                     test_scores_mean + test_scores_std, alpha=0.1, color=\"g\")\n",
    "    plt.plot(train_sizes, train_scores_mean, 'o-', color=\"r\",\n",
    "             label=\"Training score\")\n",
    "    plt.plot(train_sizes, test_scores_mean, 'o-', color=\"g\",\n",
    "             label=\"Cross-validation score\")\n",
    "\n",
    "    plt.legend(loc=\"best\")\n",
    "    return plt\n",
    "\n",
    "#--------------------------------------------------------------------------------------------------\n",
    "# Read data\n",
    "print('Process : Read Data')\n",
    "df = pd.read_csv('Original_News_Dataset/Fake_or_real_news_cleaned(basic).csv')\n",
    "df['label'] = df['label'].replace(['FAKE', 'REAL'], [1, 0])\n",
    "tokenized_list = []\n",
    "for i, title_element in enumerate(df['tokenized_title_list']):\n",
    "    text = str(title_element) + ' ' + str(df['tokenized_text_list'][i])\n",
    "    tokenized_list.append(str(text).split())\n",
    "\n",
    "#--------------------------------------------------------------------------------------------------\n",
    "# Word2Vec\n",
    "print('Process : Word2Vec')\n",
    "vec_size = 300\n",
    "model = Word2Vec(tokenized_list, \n",
    "                 min_count = 1, \n",
    "                 size = vec_size, \n",
    "                 sg = 0, \n",
    "                 alpha = 0.025, \n",
    "                 iter = 10, \n",
    "                 batch_words = 10000, \n",
    "                 window = 5)\n",
    "x = []\n",
    "for tokenized_title in tokenized_list:\n",
    "    vec_tokenized_title = []\n",
    "    for element in tokenized_title:\n",
    "        vec_tokenized_title.append(model[element])\n",
    "    x.append(vec_tokenized_title)\n",
    "\n",
    "x = np.array(x)\n",
    "y = np.array(df['label'].values)\n",
    "#--------------------------------------------------------------------------------------------------\n",
    "# Train and test\n",
    "print('Process : train and test')\n",
    "length_list = [len(element) for element in x]\n",
    "max_length = max(length_list)\n",
    "max_length = min(max_length, 100)\n",
    "samples = len(y)\n",
    "\n",
    "x_train, x_test, y_train, y_test = train_test_split(x, y, test_size = 0.25)\n",
    "\n",
    "x_train = pad_sequences(x_train, maxlen = max_length, dtype = 'float32', padding = 'post', value = 0)\n",
    "x_test = pad_sequences(x_test, maxlen = max_length, dtype = 'float32', padding = 'post', value = 0)\n",
    "\n",
    "def create_model(learn_rate = 0.01):\n",
    "    model = Sequential()\n",
    "    model.add(Bidirectional(LSTM(128, input_shape = (samples, 128, 300), return_sequences = True), merge_mode = 'concat'))\n",
    "    model.add(Flatten())\n",
    "    model.add(Dense(128, activation = 'relu'))\n",
    "    model.add(Dense(1, activation = 'sigmoid'))\n",
    "    optimizer = Adam(lr = learn_rate)\n",
    "    model.compile(loss = 'binary_crossentropy', optimizer = 'adam', metrics = ['accuracy'])\n",
    "    return model\n",
    "\n",
    "lstm_model = KerasClassifier(build_fn = create_model, verbose = 0, validation_split = 0.1, shuffle = True, epochs = 10, batch_size = 256)\n",
    "# model.compile(loss='binary_crossentropy', optimizer='adam', metrics=['accuracy'])\n",
    "lstm_model.fit(x_train, y_train, verbose = 1)\n",
    "\n",
    "title = r\"Learning Curves (LSTM)\"\n",
    "cv = ShuffleSplit(n_splits = 3, test_size = 0.1, random_state = 0)\n",
    "plot_learning_curve(lstm_model, title, x_train, y_train, ylim = (0.7, 1.01), cv = cv, n_jobs = 1)\n",
    "\n",
    "y_pred = lstm_model.predict(x_test)\n",
    "target_names = ['REAL', 'FAKE']\n",
    "print(classification_report(y_test, y_pred, target_names = target_names, digits = 4))\n",
    "print(confusion_matrix(y_test, y_pred))\n",
    "plt.show()"
   ]
  },
  {
   "cell_type": "markdown",
   "metadata": {},
   "source": [
    "## Methods to Optimize Our Model\n",
    "From the two examples we can see that just sample combination can not reach the best score and there are many problems such as overfitting in the LSTM network. So the following part will optimize our model and get a better result."
   ]
  },
  {
   "cell_type": "markdown",
   "metadata": {},
   "source": [
    "### Hypertuning\n",
    "- __GridSearchCV & RandomizedSearchCV__  \n",
    "  RandomizedSearchCV can be much more faster than GridSearchCV but it has a problem that it can performance even worse than doing nothing because most time the combination of parameters can not reappear as the combination of doing nothing or even worse.\n",
    "- (Optional) Hyperopt, based on Bayesian Optimization"
   ]
  },
  {
   "cell_type": "markdown",
   "metadata": {},
   "source": [
    "### Deal with Overfitting\n",
    "- Train-Validation-Test Split\n",
    "- Use K-Fold Cross Validation (Which is also used to solve Information Leakage). \n",
    "__Here is the graphic of these methods__"
   ]
  },
  {
   "cell_type": "markdown",
   "metadata": {},
   "source": [
    "![a](Outline/K-fold and Train_valid_test.png)"
   ]
  },
  {
   "cell_type": "markdown",
   "metadata": {},
   "source": [
    "- Dropout  \n",
    "  Dropout is a regularization technique for reducing overfitting in neural networks by preventing complex co-adaptations on training data. It is a very efficient way of performing model averaging with neural networks. The term \"dropout\" refers to dropping out units (both hidden and visible) in a neural network. In the training stages, the probability that a hidden node will be dropped is usually 0.5.  \n",
    "- Regularization  \n",
    "A regularization term (or regularizer) R(f) is added to a loss function:  \n",
    "  In some classifier functions there is an option to use l1-norm regularization or l2-norm regularization"
   ]
  },
  {
   "cell_type": "markdown",
   "metadata": {},
   "source": [
    "### Maxpooling layer\n",
    "In the neural network. Because the document is too long, and the important information to classification only takes a small part, so we choose to use maxpooling to extract the most important part of the text."
   ]
  },
  {
   "cell_type": "code",
   "execution_count": null,
   "metadata": {
    "collapsed": true
   },
   "outputs": [],
   "source": [
    "model.add(GlobalMaxPooling1D())    # In Keras"
   ]
  },
  {
   "cell_type": "markdown",
   "metadata": {},
   "source": [
    "### Ensemble Learning (Model Stacking)\n",
    "Traditionally, there are three methods of ensemble learning: __bagging__, __boosting__ and __stacking__. So why choose stacking?  \n",
    "For __bagging__, every basic has the same weight for voting so the the worse classifier might influence the result a lot.  \n",
    "For __boosting__, the model revises the weight of the samples according to the error of the last prediction, It has a better performance but can easily overfit.  \n",
    "But for __stacking__, it can overcome these drawbacks."
   ]
  },
  {
   "cell_type": "markdown",
   "metadata": {},
   "source": [
    "![a](Outline/Model_Stacking.png)"
   ]
  },
  {
   "cell_type": "code",
   "execution_count": null,
   "metadata": {
    "collapsed": true
   },
   "outputs": [],
   "source": [
    "sclf = StackingCVClassifier(classifiers = [LogisticRegression(), RandomForestClassifier(), SVC(), MLPClassifier(), XGBClassifier()], \n",
    "                            meta_classifier = SGDClassifier())\n",
    "params = {'randomforestclassifier__max_features' : ['auto', 'sqrt', 'log2'],\n",
    "          'randomforestclassifier__n_estimators': [10, 50],\n",
    "          'svc__C':[0.001,0.006,0.01,0.04,0.08,0.1],\n",
    "          'mlpclassifier__learning_rate_init':[0.001, 0.01, 0.1],\n",
    "          'xgbclassifier__learning_rate' : [0.0005, 0.001, 0.01, 0.1],\n",
    "          'meta-sgdclassifier__learning_rate' : ['constant', 'optimal', 'adaptive', 'invscaling'],\n",
    "          'meta-sgdclassifier__eta0' : [0.001, 0.01, 0.1]\n",
    "          }"
   ]
  },
  {
   "cell_type": "markdown",
   "metadata": {},
   "source": [
    "### Deal with Imbalanced Classes\n",
    "  - Do nothing. Sometimes you get lucky and nothing needs to be done. You can train on the so-called natural (or stratified) distribution and sometimes it works without need for modification.\n",
    "  - Balance the training set in some way:\n",
    "    - Oversample the minority class.\n",
    "    - Undersample the majority class.\n",
    "    - Synthesize new minority classes.\n",
    "  - Throw away minority examples and switch to an anomaly detection framework.\n",
    "  - At the algorithm level, or after it:\n",
    "    - Adjust the class weight (misclassification costs).\n",
    "    - Adjust the decision threshold.\n",
    "    - Modify an existing algorithm to be more sensitive to rare classes."
   ]
  },
  {
   "cell_type": "markdown",
   "metadata": {},
   "source": [
    "__Here are three examples and results with optimization (Doc2Vec + XGBoost & Word2Vec + LSTM + MLP & Model_Stacking)__"
   ]
  },
  {
   "cell_type": "markdown",
   "metadata": {},
   "source": [
    "### Doc2Vec + XGBoost (With RandomizedSearchCV + K-fold validation)"
   ]
  },
  {
   "cell_type": "code",
   "execution_count": 2,
   "metadata": {
    "code_folding": [
     18,
     31,
     41,
     44
    ]
   },
   "outputs": [
    {
     "name": "stdout",
     "output_type": "stream",
     "text": [
      "Process : Read Data\n",
      "Process : Doc2Vec\n",
      "Process : Train and Test\n",
      "Fitting 3 folds for each of 20 candidates, totalling 60 fits\n"
     ]
    },
    {
     "name": "stderr",
     "output_type": "stream",
     "text": [
      "[Parallel(n_jobs=1)]: Done  60 out of  60 | elapsed: 33.3min finished\n"
     ]
    },
    {
     "name": "stdout",
     "output_type": "stream",
     "text": [
      "Model with rank: 1\n",
      "Mean validation score: 0.943\n",
      "Parameters: {'learning_rate': 0.1, 'max_depth': 4, 'n_estimators': 1836, 'subsample': 0.8}\n",
      "Scores For Each Fold: 0.9358465608465608  0.9370860927152318  0.9556291390728476\n",
      "\n",
      "             precision    recall  f1-score   support\n",
      "\n",
      "       REAL     0.9389    0.9525    0.9456       758\n",
      "       FAKE     0.9515    0.9376    0.9445       753\n",
      "\n",
      "avg / total     0.9452    0.9451    0.9451      1511\n",
      "\n",
      "[[722  36]\n",
      " [ 47 706]]\n"
     ]
    }
   ],
   "source": [
    "import pandas as pd\n",
    "import numpy as np\n",
    "from sklearn.model_selection import*\n",
    "from gensim.models import*\n",
    "from gensim.models.doc2vec import*\n",
    "from xgboost.sklearn import XGBClassifier\n",
    "from sklearn.metrics.classification import*\n",
    "from sklearn.model_selection import*\n",
    "from scipy.stats import randint as sp_randint\n",
    "from operator import itemgetter\n",
    "warnings.filterwarnings(module='sklearn*', action='ignore', category=DeprecationWarning)\n",
    "#--------------------------------------------------------------------------------------------------\n",
    "# Read data\n",
    "print('Process : Read Data')\n",
    "\n",
    "df = pd.read_csv('Original_News_Dataset/Fake_or_real_news_cleaned(basic).csv')\n",
    "df['label'] = df['label'].replace(['FAKE', 'REAL'], [1, 0])\n",
    "tokenized_list = []\n",
    "for i, element in enumerate(df['tokenized_title_list']):\n",
    "    text = str(element) + ' ' + str(df['tokenized_text_list'][i])\n",
    "    tokenized_list.append(text.split())\n",
    "\n",
    "#--------------------------------------------------------------------------------------------------\n",
    "# doc2vec in gensim\n",
    "print('Process : Doc2Vec')\n",
    "documents = [TaggedDocument(doc, [i]) for i, doc in enumerate(tokenized_list)]\n",
    "doc2vec_model = Doc2Vec(vector_size = 300, min_count = 5, dm = 0, epochs = 10, pretrained_emb = 'data/GoogleNews-vector-negative300.bin.gz')\n",
    "doc2vec_model.build_vocab(documents)\n",
    "doc2vec_model.train(documents, total_examples = doc2vec_model.corpus_count, epochs = 10)\n",
    "\n",
    "x = []\n",
    "for text in tokenized_list:\n",
    "  x.append(doc2vec_model.infer_vector(text))\n",
    "x = np.array(x)\n",
    "y = np.array(df['label'].values)\n",
    "\n",
    "#--------------------------------------------------------------------------------------------------\n",
    "# Train and test\n",
    "print('Process : Train and Test')\n",
    "#split the data into train data and test data\n",
    "SSS = StratifiedShuffleSplit(n_splits = 1, test_size = 0.25, train_size = 0.75, random_state = 0)\n",
    "for train_index, test_index in SSS.split(x, y):\n",
    "    x_train, x_test = x[train_index], x[test_index]\n",
    "    y_train, y_test = y[train_index], y[test_index]\n",
    "param_dist = {\"max_depth\" : sp_randint(3, 10),\n",
    "              \"learning_rate\" : [0.0005, 0.001, 0.01, 0.1, 0.2, 0.3],\n",
    "              \"subsample\" : [0.3, 0.4, 0.5, 0.6, 0.7, 0.8], \n",
    "              \"n_estimators\" : sp_randint(100, 2000)\n",
    "              }\n",
    "\n",
    "XGmodel = XGBClassifier(reg_lambda = 1, objective = \"binary:logistic\")\n",
    "\n",
    "n_iter_search = 20\n",
    "random_search = RandomizedSearchCV(XGmodel, param_distributions = param_dist, n_iter = n_iter_search, return_train_score = True, verbose = 1)\n",
    "random_search.fit(x_train, y_train)\n",
    "\n",
    "grid_scores = sorted(random_search.grid_scores_, key = itemgetter(1), reverse = True)\n",
    "print(\"Model with rank: {0}\".format(1))\n",
    "print(\"Mean validation score: {0:.3f}\".format(grid_scores[0].mean_validation_score))\n",
    "print(\"Parameters: {0}\".format(grid_scores[0].parameters))\n",
    "validation_scores = map(lambda x : str(x), grid_scores[0].cv_validation_scores)\n",
    "print(\"Scores For Each Fold: {0}\".format('  '.join(validation_scores)))\n",
    "print(\"\")\n",
    "\n",
    "y_pred = random_search.predict(x_test)\n",
    "target_names = ['REAL', 'FAKE']\n",
    "print(classification_report(y_test, y_pred, target_names = target_names, digits = 4))\n",
    "print(confusion_matrix(y_test, y_pred))"
   ]
  },
  {
   "cell_type": "markdown",
   "metadata": {},
   "source": [
    "### Word2Vec + LSTM + MLP (With Dropout + Maxpooling + Train_Validation_Test Split)"
   ]
  },
  {
   "cell_type": "code",
   "execution_count": 2,
   "metadata": {
    "code_folding": [
     17,
     52,
     60,
     69,
     86,
     93
    ]
   },
   "outputs": [
    {
     "name": "stdout",
     "output_type": "stream",
     "text": [
      "Process : Read Data\n",
      "Process : Word2Vec\n"
     ]
    },
    {
     "name": "stderr",
     "output_type": "stream",
     "text": [
      "/home/blazer/.local/lib/python3.6/site-packages/ipykernel_launcher.py:73: DeprecationWarning: Call to deprecated `__getitem__` (Method will be removed in 4.0.0, use self.wv.__getitem__() instead).\n"
     ]
    },
    {
     "name": "stdout",
     "output_type": "stream",
     "text": [
      "Process : train and test\n",
      "Train on 4078 samples, validate on 454 samples\n",
      "Epoch 1/10\n",
      "4078/4078 [==============================] - 28s 7ms/step - loss: 0.8317 - acc: 0.5770 - val_loss: 0.5907 - val_acc: 0.8414\n",
      "Epoch 2/10\n",
      "4078/4078 [==============================] - 26s 6ms/step - loss: 0.5355 - acc: 0.7308 - val_loss: 0.4471 - val_acc: 0.9075\n",
      "Epoch 3/10\n",
      "4078/4078 [==============================] - 26s 6ms/step - loss: 0.3655 - acc: 0.8418 - val_loss: 0.2902 - val_acc: 0.9317\n",
      "Epoch 4/10\n",
      "4078/4078 [==============================] - 26s 6ms/step - loss: 0.2649 - acc: 0.8936 - val_loss: 0.2257 - val_acc: 0.9339\n",
      "Epoch 5/10\n",
      "4078/4078 [==============================] - 26s 6ms/step - loss: 0.2064 - acc: 0.9193 - val_loss: 0.1875 - val_acc: 0.9604\n",
      "Epoch 6/10\n",
      "4078/4078 [==============================] - 26s 6ms/step - loss: 0.1904 - acc: 0.9296 - val_loss: 0.1741 - val_acc: 0.9559\n",
      "Epoch 7/10\n",
      "4078/4078 [==============================] - 26s 6ms/step - loss: 0.1712 - acc: 0.9348 - val_loss: 0.1751 - val_acc: 0.9515\n",
      "Epoch 8/10\n",
      "4078/4078 [==============================] - 27s 6ms/step - loss: 0.1608 - acc: 0.9394 - val_loss: 0.1590 - val_acc: 0.9471\n",
      "Epoch 9/10\n",
      "4078/4078 [==============================] - 26s 6ms/step - loss: 0.1394 - acc: 0.9448 - val_loss: 0.1377 - val_acc: 0.9626\n",
      "Epoch 10/10\n",
      "4078/4078 [==============================] - 26s 6ms/step - loss: 0.1280 - acc: 0.9541 - val_loss: 0.1423 - val_acc: 0.9559\n",
      "             precision    recall  f1-score   support\n",
      "\n",
      "       REAL     0.9223    0.9710    0.9460       758\n",
      "       FAKE     0.9691    0.9177    0.9427       753\n",
      "\n",
      "avg / total     0.9456    0.9444    0.9444      1511\n",
      "\n",
      "[[736  22]\n",
      " [ 62 691]]\n"
     ]
    },
    {
     "data": {
      "image/png": "[encoded data removed]",
      "text/plain": [
       "<Figure size 432x288 with 1 Axes>"
      ]
     },
     "metadata": {
      "needs_background": "light"
     },
     "output_type": "display_data"
    }
   ],
   "source": [
    "import pandas as pd\n",
    "import numpy as np\n",
    "import keras\n",
    "import matplotlib.pyplot as plt\n",
    "%matplotlib inline\n",
    "\n",
    "from sklearn.model_selection import*\n",
    "from gensim.models import Word2Vec\n",
    "from keras.preprocessing.text import Tokenizer\n",
    "from keras.preprocessing.sequence import pad_sequences\n",
    "from keras.models import Sequential\n",
    "from keras.layers import*\n",
    "from sklearn.metrics.classification import*\n",
    "from sklearn.model_selection import*\n",
    "from keras.wrappers.scikit_learn import KerasClassifier\n",
    "from keras.optimizers import*\n",
    "\n",
    "def plot_learning_curve(estimator, title, X, y, ylim=None, cv=None,\n",
    "                        n_jobs=1, train_sizes=np.linspace(.1, 1.0, 5)):\n",
    "    plt.figure()\n",
    "    plt.title(title)\n",
    "    if ylim is not None:\n",
    "        plt.ylim(*ylim)\n",
    "    plt.xlabel(\"Training examples\")\n",
    "    plt.ylabel(\"Score\")\n",
    "    train_sizes, train_scores, test_scores = learning_curve(\n",
    "        estimator, X, y, cv=cv, n_jobs=n_jobs, train_sizes=train_sizes, verbose = 0)\n",
    "    train_scores_mean = np.mean(train_scores, axis=1)\n",
    "    train_scores_std = np.std(train_scores, axis=1)\n",
    "    test_scores_mean = np.mean(test_scores, axis=1)\n",
    "    test_scores_std = np.std(test_scores, axis=1)\n",
    "    plt.grid()\n",
    "\n",
    "    plt.fill_between(train_sizes, train_scores_mean - train_scores_std,\n",
    "                     train_scores_mean + train_scores_std, alpha=0.1,\n",
    "                     color=\"r\")\n",
    "    plt.fill_between(train_sizes, test_scores_mean - test_scores_std,\n",
    "                     test_scores_mean + test_scores_std, alpha=0.1, color=\"g\")\n",
    "    plt.plot(train_sizes, train_scores_mean, 'o-', color=\"r\",\n",
    "             label=\"Training score\")\n",
    "    plt.plot(train_sizes, test_scores_mean, 'o-', color=\"g\",\n",
    "             label=\"Cross-validation score\")\n",
    "\n",
    "    plt.legend(loc=\"best\")\n",
    "    return plt\n",
    "\n",
    "#--------------------------------------------------------------------------------------------------\n",
    "# Read data\n",
    "print('Process : Read Data')\n",
    "df = pd.read_csv('Original_News_Dataset/Fake_or_real_news_cleaned(basic).csv')\n",
    "df['label'] = df['label'].replace(['FAKE', 'REAL'], [1, 0])\n",
    "tokenized_list = []\n",
    "for i, title_element in enumerate(df['tokenized_title_list']):\n",
    "    text = str(title_element) + ' ' + str(df['tokenized_text_list'][i])\n",
    "    tokenized_list.append(str(text).split())\n",
    "\n",
    "#--------------------------------------------------------------------------------------------------\n",
    "# Word2Vec\n",
    "print('Process : Word2Vec')\n",
    "vec_size = 300\n",
    "model = Word2Vec(tokenized_list, \n",
    "                 min_count = 1, \n",
    "                 size = vec_size, \n",
    "                 sg = 0, \n",
    "                 alpha = 0.025, \n",
    "                 iter = 10, \n",
    "                 batch_words = 10000, \n",
    "                 window = 5)\n",
    "x = []\n",
    "for tokenized_title in tokenized_list:\n",
    "    vec_tokenized_title = []\n",
    "    for element in tokenized_title:\n",
    "        vec_tokenized_title.append(model[element])\n",
    "    x.append(vec_tokenized_title)\n",
    "\n",
    "x = np.array(x)\n",
    "y = np.array(df['label'].values)\n",
    "#--------------------------------------------------------------------------------------------------\n",
    "# Train and test\n",
    "print('Process : train and test')\n",
    "length_list = [len(element) for element in x]\n",
    "max_length = max(length_list)\n",
    "max_length = min(max_length, 1000)\n",
    "samples = len(y)\n",
    "\n",
    "SSS = StratifiedShuffleSplit(n_splits = 1, test_size = 0.25, train_size = 0.75, random_state = 0)\n",
    "for train_index, test_index in SSS.split(x, y):\n",
    "    x_train, x_test = x[train_index], x[test_index]\n",
    "    y_train, y_test = y[train_index], y[test_index]\n",
    "\n",
    "x_train = pad_sequences(x_train, maxlen = max_length, dtype = 'float32', padding = 'post', value = 0)\n",
    "x_test = pad_sequences(x_test, maxlen = max_length, dtype = 'float32', padding = 'post', value = 0)\n",
    "\n",
    "def create_model(learn_rate = 0.01):\n",
    "    model = Sequential()\n",
    "    model.add(Bidirectional(LSTM(128, input_shape = (samples, 128, 300), return_sequences = True), merge_mode = 'concat'))\n",
    "    model.add(Dropout(0.5))\n",
    "    model.add(GlobalMaxPooling1D())\n",
    "    model.add(Dropout(0.5))\n",
    "    model.add(Dense(128, activation = 'relu'))\n",
    "    model.add(Dropout(0.5))\n",
    "    model.add(Dense(1, activation = 'sigmoid'))\n",
    "    optimizer = Adam(lr = learn_rate)\n",
    "    model.compile(loss = 'binary_crossentropy', optimizer = 'adam', metrics = ['accuracy'])\n",
    "    return model\n",
    "\n",
    "lstm_model = KerasClassifier(build_fn = create_model, verbose = 0, validation_split = 0.1, shuffle = True, epochs = 10, batch_size = 256)\n",
    "lstm_model.fit(x_train, y_train, verbose = 1) \n",
    "\n",
    "title = r\"Learning Curves (LSTM)\"\n",
    "cv = ShuffleSplit(n_splits = 3, test_size = 0.1, random_state = 0)\n",
    "plot_learning_curve(lstm_model, title, x_train, y_train, ylim = (0.7, 1.01), cv = cv, n_jobs = 1)\n",
    "\n",
    "y_pred = lstm_model.predict(x_test)\n",
    "target_names = ['REAL', 'FAKE']\n",
    "print(classification_report(y_test, y_pred, target_names = target_names, digits = 4))\n",
    "print(confusion_matrix(y_test, y_pred))\n",
    "plt.show()"
   ]
  },
  {
   "cell_type": "markdown",
   "metadata": {},
   "source": [
    "### Doc2Vec + Model Stacking (With RandomizedSearchCV + K-fold validation)"
   ]
  },
  {
   "cell_type": "code",
   "execution_count": 1,
   "metadata": {
    "code_folding": [
     26,
     40
    ]
   },
   "outputs": [
    {
     "name": "stderr",
     "output_type": "stream",
     "text": [
      "c:\\users\\lenovo\\appdata\\local\\programs\\python\\python36\\lib\\site-packages\\gensim\\utils.py:1209: UserWarning: detected Windows; aliasing chunkize to chunkize_serial\n",
      "  warnings.warn(\"detected Windows; aliasing chunkize to chunkize_serial\")\n"
     ]
    },
    {
     "name": "stdout",
     "output_type": "stream",
     "text": [
      "Process : Read Data\n",
      "Process : Doc2Vec\n",
      "Process : Train and Test\n",
      "             precision    recall  f1-score   support\n",
      "\n",
      "       REAL     0.9426    0.9399    0.9413       716\n",
      "       FAKE     0.9463    0.9487    0.9475       799\n",
      "\n",
      "avg / total     0.9445    0.9446    0.9446      1515\n",
      "\n",
      "[[673  43]\n",
      " [ 41 758]]\n"
     ]
    }
   ],
   "source": [
    "import pandas as pd\n",
    "import numpy as np\n",
    "\n",
    "from sklearn.model_selection import*\n",
    "from sklearn.linear_model import*\n",
    "from sklearn.ensemble import*\n",
    "from sklearn.svm import SVC\n",
    "from xgboost.sklearn import XGBClassifier\n",
    "from sklearn.neural_network import*\n",
    "from gensim.models import*\n",
    "from gensim.models.doc2vec import*\n",
    "from sklearn.metrics.classification import*\n",
    "from sklearn.model_selection import*\n",
    "from scipy.stats import randint as sp_randint\n",
    "from operator import itemgetter\n",
    "from vecstack import StackingTransformer\n",
    "from mlxtend.classifier import StackingCVClassifier\n",
    "warnings.filterwarnings(module = 'sklearn*', action = 'ignore', category = DeprecationWarning)\n",
    "#--------------------------------------------------------------------------------------------------\n",
    "# Read data\n",
    "\n",
    "print('Process : Read Data')\n",
    "\n",
    "df = pd.read_csv('Original_News_Dataset/Fake_or_real_news_cleaned(basic).csv')\n",
    "df['label'] = df['label'].replace(['FAKE', 'REAL'], [1, 0])\n",
    "tokenized_list = []\n",
    "for i, element in enumerate(df['tokenized_title_list']):\n",
    "    text = str(element) + ' ' + str(df['tokenized_text_list'][i])\n",
    "    tokenized_list.append(text.split())\n",
    "\n",
    "#--------------------------------------------------------------------------------------------------\n",
    "# doc2vec in gensim\n",
    "\n",
    "print('Process : Doc2Vec')\n",
    "documents = [TaggedDocument(doc, [i]) for i, doc in enumerate(tokenized_list)]\n",
    "doc2vec_model = Doc2Vec(vector_size = 300, min_count = 5, dm = 0, epochs = 10, pretrained_emb = 'data/GoogleNews-vector-negative300.bin.gz')\n",
    "doc2vec_model.build_vocab(documents)\n",
    "doc2vec_model.train(documents, total_examples = doc2vec_model.corpus_count, epochs = 10)\n",
    "\n",
    "x = []\n",
    "for text in tokenized_list:\n",
    "\tx.append(doc2vec_model.infer_vector(text))\n",
    "x = np.array(x)\n",
    "y = np.array(df['label'].values)\n",
    "\n",
    "#--------------------------------------------------------------------------------------------------\n",
    "# Train and test\n",
    "print('Process : Train and Test')\n",
    "#split the data into train data and test data\n",
    "x_train, x_test, y_train, y_test = train_test_split(x, y, test_size = 0.25, random_state = 34)\n",
    "\n",
    "sclf = StackingCVClassifier(classifiers = [LogisticRegression(), RandomForestClassifier(), SVC(), MLPClassifier(), XGBClassifier()], \n",
    "                            meta_classifier = SGDClassifier(max_iter = 1000, tol = 1e-3))\n",
    "params = {'randomforestclassifier__max_features' : ['auto', 'sqrt', 'log2'],\n",
    "          'randomforestclassifier__n_estimators': [10, 50],\n",
    "          'svc__C':[0.001,0.006,0.01,0.04,0.08,0.1],\n",
    "          'mlpclassifier__learning_rate_init':[0.001, 0.01, 0.1],\n",
    "          'xgbclassifier__learning_rate' : [0.0005, 0.001, 0.01, 0.1],\n",
    "          'meta-sgdclassifier__learning_rate' : ['constant', 'optimal', 'invscaling'],\n",
    "          'meta-sgdclassifier__eta0' : [0.001, 0.01, 0.1]\n",
    "          }\n",
    "\n",
    "grid = RandomizedSearchCV(estimator = sclf, param_distributions = params, cv = 5,refit = True)\n",
    "\n",
    "grid.fit(x_train, y_train)\n",
    "y_pred = grid.predict(x_test)\n",
    "target_names = ['REAL', 'FAKE']\n",
    "print(classification_report(y_test, y_pred, target_names = target_names, digits = 4))\n",
    "print(confusion_matrix(y_test, y_pred))"
   ]
  },
  {
   "cell_type": "markdown",
   "metadata": {},
   "source": [
    "## Performance\n",
    "In the following part our group will show the performance of different combination of embeddings, data transformations and classifications based on f1-score. Because 3D chart is not suitable for exhibitions, we will divide it into several parts based on embeddings."
   ]
  },
  {
   "cell_type": "markdown",
   "metadata": {},
   "source": [
    "### One-Hot\n",
    "After the experiment. We find that the result of one-hot can take a lot of memory (9.4G) and PCA may lose some useful information of the texts, so we give up this method."
   ]
  },
  {
   "cell_type": "markdown",
   "metadata": {},
   "source": [
    "### Doc2Vec\n",
    "| Classification | Logistic | RandomForest | XGBoost |   SVM  |   MLP  | Model_Stacking |\n",
    "|:--------------:|:--------:|:------------:|:-------:|:------:|:------:|:------:|\n",
    "|    F1-Score    |  0.9444  |    0.9437    |  __0.9523__ | 0.9411 | 0.9437 | 0.9446 |"
   ]
  },
  {
   "cell_type": "markdown",
   "metadata": {},
   "source": [
    "### Word2Vec\n",
    "<style type=\"text/css\">\n",
    ".tg  {border-collapse:collapse;border-spacing:0;}\n",
    ".tg td{font-family:Arial, sans-serif;font-size:14px;padding:10px 5px;border-style:solid;border-width:1px;overflow:hidden;word-break:normal;border-color:black;}\n",
    ".tg th{font-family:Arial, sans-serif;font-size:14px;font-weight:normal;padding:10px 5px;border-style:solid;border-width:1px;overflow:hidden;word-break:normal;border-color:black;}\n",
    ".tg .tg-c3ow{border-color:inherit;text-align:center;vertical-align:top}\n",
    ".tg .tg-7btt{font-weight:bold;border-color:inherit;text-align:center;vertical-align:top}\n",
    "</style>\n",
    "<table class=\"tg\">\n",
    "  <tr>\n",
    "    <th class=\"tg-c3ow\"></th>\n",
    "    <th class=\"tg-c3ow\">Logistic</th>\n",
    "    <th class=\"tg-c3ow\">RandomForest</th>\n",
    "    <th class=\"tg-c3ow\">XGBoost</th>\n",
    "    <th class=\"tg-c3ow\">SVM</th>\n",
    "    <th class=\"tg-c3ow\">MLP</th>\n",
    "    <th class=\"tg-c3ow\">Bi-LSTM</th>\n",
    "  </tr>\n",
    "  <tr>\n",
    "    <td class=\"tg-c3ow\">SUM</td>\n",
    "    <td class=\"tg-c3ow\">0.8871<br></td>\n",
    "    <td class=\"tg-c3ow\">0.9049</td>\n",
    "    <td class=\"tg-7btt\">0.9142</td>\n",
    "    <td class=\"tg-c3ow\">0.8706</td>\n",
    "    <th class=\"tg-c3ow\">0.9168</th>\n",
    "    <th class=\"tg-7btt\" rowspan=\"2\"><br>0.9444</th>\n",
    "  </tr>\n",
    "  <tr>\n",
    "    <td class=\"tg-c3ow\">TFIDF</td>\n",
    "    <td class=\"tg-c3ow\">0.9162</td>\n",
    "    <td class=\"tg-c3ow\">0.9102</td>\n",
    "    <th class=\"tg-c3ow\">0.9274</th>\n",
    "    <td class=\"tg-c3ow\">0.9116</td>\n",
    "    <td class=\"tg-7btt\">0.9241</td>\n",
    "  </tr>\n",
    "</table>"
   ]
  },
  {
   "cell_type": "markdown",
   "metadata": {},
   "source": [
    "### Fasttext\n",
    "<style type=\"text/css\">\n",
    ".tg  {border-collapse:collapse;border-spacing:0;}\n",
    ".tg td{font-family:Arial, sans-serif;font-size:14px;padding:10px 5px;border-style:solid;border-width:1px;overflow:hidden;word-break:normal;border-color:black;}\n",
    ".tg th{font-family:Arial, sans-serif;font-size:14px;font-weight:normal;padding:10px 5px;border-style:solid;border-width:1px;overflow:hidden;word-break:normal;border-color:black;}\n",
    ".tg .tg-c3ow{border-color:inherit;text-align:center;vertical-align:top}\n",
    ".tg .tg-7btt{font-weight:bold;border-color:inherit;text-align:center;vertical-align:top}\n",
    "</style>\n",
    "<table class=\"tg\">\n",
    "  <tr>\n",
    "    <th class=\"tg-c3ow\"></th>\n",
    "    <th class=\"tg-c3ow\">Logistic</th>\n",
    "    <th class=\"tg-c3ow\">RandomForest</th>\n",
    "    <th class=\"tg-c3ow\">XGBoost</th>\n",
    "    <th class=\"tg-c3ow\">SVM</th>\n",
    "    <th class=\"tg-c3ow\">MLP</th>\n",
    "    <th class=\"tg-c3ow\">Bi-LSTM</th>\n",
    "  </tr>\n",
    "  <tr>\n",
    "    <td class=\"tg-c3ow\">SUM</td>\n",
    "    <td class=\"tg-c3ow\">0.9043<br></td>\n",
    "    <td class=\"tg-c3ow\">0.9010</td>\n",
    "    <td class=\"tg-c3ow\">0.9162</td>\n",
    "    <td class=\"tg-c3ow\">0.9043</td>\n",
    "    <th class=\"tg-c3ow\">0.9168</th>\n",
    "    <td class=\"tg-7btt\" rowspan=\"2\"><br>0.9087</td>\n",
    "  </tr>\n",
    "  <tr>\n",
    "    <td class=\"tg-c3ow\">TFIDF</td>\n",
    "    <td class=\"tg-c3ow\">0.9168</td>\n",
    "    <td class=\"tg-c3ow\">0.9201</td>\n",
    "    <th class=\"tg-c3ow\">0.9320</th>\n",
    "    <td class=\"tg-c3ow\">0.9115</td>\n",
    "    <td class=\"tg-c3ow\">0.9274</td>\n",
    "  </tr>\n",
    "</table>"
   ]
  },
  {
   "cell_type": "markdown",
   "metadata": {},
   "source": [
    "# Performance on Another Dataset\n",
    "\n",
    "According to the chart above, we choose the model wtih best performance to deal with the new, big dataset to test its generalization ability. So here is the code and the performance (Doc2Vec + XGBoost)."
   ]
  },
  {
   "cell_type": "code",
   "execution_count": 1,
   "metadata": {
    "code_folding": [
     15,
     27,
     35,
     42
    ],
    "collapsed": true
   },
   "outputs": [],
   "source": [
    "import pandas as pd\n",
    "import numpy as np\n",
    "import itertools\n",
    "import string\n",
    "import nltk\n",
    "import re\n",
    "\n",
    "from nltk.corpus import stopwords\n",
    "from string import punctuation\n",
    "from itertools import*\n",
    "from nltk import*\n",
    "#----------------------------------------------------------------------------------------------------------------------------------------------------\n",
    "# Function and Define\n",
    "def clean_text(tokenized_list, sw, punct):\n",
    "    new_list = [token.lower() for token in tokenized_list if token.lower() not in chain(punct, sw)]\n",
    "    str = ' '\n",
    "    return str.join(new_list)\n",
    "\n",
    "def clean_True_text(tokenized_string, sw, punct):\n",
    "    tokenized_string = re.sub(r'(.*) - ', '', tokenized_string)\n",
    "    tokenized_list = word_tokenize(tokenized_string)\n",
    "    new_list = [token.lower() for token in tokenized_list if token.lower() not in chain(punct, sw)]\n",
    "    str = ' '\n",
    "    return str.join(new_list)\n",
    "\n",
    "#----------------------------------------------------------------------------------------------------------------------------------------------------\n",
    "# Read Data\n",
    "sw = stopwords.words('english')\n",
    "punct = punctuation\n",
    "\n",
    "df_Fake = pd.read_csv('ISOT_News_Dataset/Fake.csv')\n",
    "df_True = pd.read_csv('ISOT_News_Dataset/True.csv')\n",
    "\n",
    "pd.set_option('display.max_columns', None)\n",
    "pd.set_option('display.width',300)\n",
    "pd.set_option('display.max_colwidth',100)\n",
    "\n",
    "df_True['tokenized_title_list'] = df_True.apply(lambda x : clean_text(word_tokenize(x['title']), sw, punct), axis=1)\n",
    "df_True['tokenized_text_list'] = df_True.apply(lambda x : clean_True_text(x['text'], sw, punct), axis=1)\n",
    "df_Fake['tokenized_title_list'] = df_Fake.apply(lambda x : clean_text(word_tokenize(x['title']), sw, punct), axis=1)\n",
    "df_Fake['tokenized_text_list'] = df_Fake.apply(lambda x : clean_text(word_tokenize(x['text']), sw, punct), axis=1)\n",
    "\n",
    "df_True.to_csv('ISOT_News_Dataset/True_cleaned(basic).csv', index = False)\n",
    "df_Fake.to_csv('ISOT_News_Dataset/Fake_cleaned(basic).csv', index = False)"
   ]
  },
  {
   "cell_type": "code",
   "execution_count": 2,
   "metadata": {},
   "outputs": [
    {
     "name": "stdout",
     "output_type": "stream",
     "text": [
      "Process : Read Data\n",
      "Process : Doc2Vec\n",
      "Process : Train and Test\n",
      "Fitting 3 folds for each of 20 candidates, totalling 60 fits\n"
     ]
    },
    {
     "name": "stderr",
     "output_type": "stream",
     "text": [
      "[Parallel(n_jobs=1)]: Done  60 out of  60 | elapsed: 439.9min finished\n"
     ]
    },
    {
     "name": "stdout",
     "output_type": "stream",
     "text": [
      "Model with rank: 1\n",
      "Mean validation score: 0.983\n",
      "Parameters: {'learning_rate': 0.1, 'max_depth': 5, 'n_estimators': 791, 'subsample': 0.4}\n",
      "Scores For Each Fold: 0.9823608017817372  0.9852102637205987  0.9828047042052744\n",
      "\n",
      "             precision    recall  f1-score   support\n",
      "\n",
      "       REAL     0.9853    0.9848    0.9851      5871\n",
      "       FAKE     0.9834    0.9839    0.9837      5354\n",
      "\n",
      "avg / total     0.9844    0.9844    0.9844     11225\n",
      "\n",
      "[[5782   89]\n",
      " [  86 5268]]\n"
     ]
    }
   ],
   "source": [
    "import pandas as pd\n",
    "import numpy as np\n",
    "from sklearn.model_selection import*\n",
    "from gensim.models import*\n",
    "from gensim.models.doc2vec import*\n",
    "from xgboost.sklearn import XGBClassifier\n",
    "from sklearn.metrics.classification import*\n",
    "from sklearn.model_selection import*\n",
    "from scipy.stats import randint as sp_randint\n",
    "from operator import itemgetter\n",
    "warnings.filterwarnings(module='sklearn*', action='ignore', category=DeprecationWarning)\n",
    "\n",
    "#----------------------------------------------------------------------------------------------------------------------------------------------------\n",
    "# Read data\n",
    "print('Process : Read Data')\n",
    "\n",
    "df_True = pd.read_csv('ISOT_News_Dataset/True_cleaned(basic).csv')\n",
    "df_Fake = pd.read_csv('ISOT_News_Dataset/Fake_cleaned(basic).csv')\n",
    "\n",
    "tokenized_list = []\n",
    "\n",
    "for i, True_title_element in enumerate(df_True['tokenized_title_list']):\n",
    "    text = str(True_title_element) + ' ' + str(df_True['tokenized_text_list'][i])\n",
    "    tokenized_list.append(str(text).split())\n",
    "\n",
    "for i, Fake_title_element in enumerate(df_Fake['tokenized_title_list']):\n",
    "    text = str(Fake_title_element) + ' ' + str(df_Fake['tokenized_text_list'][i])\n",
    "    tokenized_list.append(str(text).split())\n",
    "\n",
    "True_sample = len(df_True)\n",
    "Fake_sample = len(df_Fake)\n",
    "\n",
    "#----------------------------------------------------------------------------------------------------------------------------------------------------\n",
    "# doc2vec in gensim\n",
    "print('Process : Doc2Vec')\n",
    "documents = [TaggedDocument(doc, [i]) for i, doc in enumerate(tokenized_list)]\n",
    "doc2vec_model = Doc2Vec(vector_size = 300, min_count = 5, dm = 0, epochs = 10, pretrained_emb = 'data/GoogleNews-vector-negative300.bin.gz')\n",
    "doc2vec_model.build_vocab(documents)\n",
    "doc2vec_model.train(documents, total_examples = doc2vec_model.corpus_count, epochs = 10)\n",
    "\n",
    "x = []\n",
    "for text in tokenized_list:\n",
    "    x.append(doc2vec_model.infer_vector(text))\n",
    "x = np.array(x)\n",
    "y = np.array(([1] * True_sample) + ([0] * Fake_sample))\n",
    "\n",
    "#----------------------------------------------------------------------------------------------------------------------------------------------------\n",
    "# Train and test\n",
    "print('Process : Train and Test')\n",
    "#split the data into train data and test data\n",
    "SSS = StratifiedShuffleSplit(n_splits = 1, test_size = 0.25, train_size = 0.75, random_state = 66)\n",
    "for train_index, test_index in SSS.split(x, y):\n",
    "    x_train, x_test = x[train_index], x[test_index]\n",
    "    y_train, y_test = y[train_index], y[test_index]\n",
    "param_dist = {\"max_depth\" : sp_randint(3, 10),\n",
    "              \"learning_rate\" : [0.0005, 0.001, 0.01, 0.1, 0.2, 0.3],\n",
    "              \"subsample\" : [0.3, 0.4, 0.5, 0.6, 0.7, 0.8], \n",
    "              \"n_estimators\" : sp_randint(100, 2000)\n",
    "              }\n",
    "\n",
    "XGmodel = XGBClassifier(reg_lambda = 1, objective = \"binary:logistic\")\n",
    "\n",
    "n_iter_search = 20\n",
    "random_search = RandomizedSearchCV(XGmodel, param_distributions = param_dist, n_iter = n_iter_search, return_train_score = True, verbose = 1)\n",
    "random_search.fit(x_train, y_train)\n",
    "\n",
    "grid_scores = sorted(random_search.grid_scores_, key = itemgetter(1), reverse = True)\n",
    "print(\"Model with rank: {0}\".format(1))\n",
    "print(\"Mean validation score: {0:.3f}\".format(grid_scores[0].mean_validation_score))\n",
    "print(\"Parameters: {0}\".format(grid_scores[0].parameters))\n",
    "validation_scores = map(lambda x : str(x), grid_scores[0].cv_validation_scores)\n",
    "print(\"Scores For Each Fold: {0}\".format('  '.join(validation_scores)))\n",
    "print(\"\")\n",
    "\n",
    "y_pred = random_search.predict(x_test)\n",
    "target_names = ['REAL', 'FAKE']\n",
    "print(classification_report(y_test, y_pred, target_names = target_names, digits = 4))\n",
    "print(confusion_matrix(y_test, y_pred))"
   ]
  }
 ],
 "metadata": {
  "kernelspec": {
   "display_name": "Python 3",
   "language": "python",
   "name": "python3"
  },
  "language_info": {
   "codemirror_mode": {
    "name": "ipython",
    "version": 3
   },
   "file_extension": ".py",
   "mimetype": "text/x-python",
   "name": "python",
   "nbconvert_exporter": "python",
   "pygments_lexer": "ipython3",
   "version": "3.6.3"
  }
 },
 "nbformat": 4,
 "nbformat_minor": 2
}
